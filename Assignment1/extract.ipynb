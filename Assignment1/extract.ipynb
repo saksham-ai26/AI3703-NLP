{
 "cells": [
  {
   "cell_type": "code",
   "execution_count": 19,
   "metadata": {},
   "outputs": [
    {
     "name": "stdout",
     "output_type": "stream",
     "text": [
      "10\n",
      "https://medium.com/@hlofinding/natural-pain-relief-redefined-meridians-elite-acupressure-set-280710765e17\n",
      "https://medium.com/@shance001/bdhshssh-02acddaf54a1\n",
      "https://medium.com/@romeshg5/discover-the-secrets-to-healthy-nutrition-3cf8039d2f74\n",
      "https://medium.com/@nazish2019/can-probiotics-soothe-inflammatory-bowel-disease-9ab76bd00b3d\n",
      "https://medium.com/@mr6215458/sure-heres-an-article-approximately-apples-as-meals-58c5a3873c3f\n",
      "https://medium.com/@bopapejmc/a-breath-of-fresh-air-cb1f92cd3b50\n",
      "https://medium.com/illumination/running-thoughts-the-art-of-showing-up-for-a-run-52ff1667feda\n",
      "https://medium.com/@tubaishtiaq/foods-and-habits-to-treat-anemia-at-home-d25f694329c2\n",
      "https://medium.com/@nabeelahmad1070/constipation-mother-of-illnesses-enemy-of-health-ff0d5716915e\n",
      "https://medium.com/@zaranoor1/how-to-gain-weight-in-a-healthy-way-1a642d1a75a1\n"
     ]
    }
   ],
   "source": [
    "from bs4 import BeautifulSoup\n",
    "import requests\n",
    "\n",
    "url = \"https://medium.com/tag/health/archive\"\n",
    "\n",
    "html_text = requests.get(url).text\n",
    "\n",
    "soup = BeautifulSoup(html_text, 'html.parser')\n",
    "\n",
    "main_div = soup.find_all(\"div\", {\"role\": \"link\"})\n",
    "\n",
    "div = soup.find_all(\"div\", {\"data-href\": True})\n",
    "\n",
    "print(len(div))\n",
    "\n",
    "for article in div:\n",
    "    print(article['data-href'])\n",
    "\n",
    "\n",
    "\n",
    "\n",
    "\n",
    "# for art in main_div:\n",
    "#     print(art)\n",
    "# #     print(div.data['href'])\n",
    "\n",
    "# print(main_div)\n",
    "# print(len(main_div))\n",
    "\n",
    "# all_images = soup.find_all('img')\n",
    "\n",
    "# print(len(all_images))\n",
    "\n",
    "# print(all_images)\n",
    "\n",
    "# print(soup.prettify())"
   ]
  },
  {
   "cell_type": "code",
   "execution_count": 3,
   "metadata": {},
   "outputs": [],
   "source": [
    "from selenium import webdriver\n",
    "from selenium.webdriver.common.by import By\n",
    "from selenium.webdriver.common.action_chains import ActionChains\n",
    "from selenium.webdriver.common.keys import Keys\n",
    "from bs4 import BeautifulSoup\n",
    "import time\n",
    "import requests"
   ]
  },
  {
   "cell_type": "code",
   "execution_count": 21,
   "metadata": {},
   "outputs": [
    {
     "name": "stdout",
     "output_type": "stream",
     "text": [
      "{'Title': 'Unlock the Secrets to a Healthier Body | by Romeshg | Jan, 2025 | Medium', 'Text': \"Sign up Sign in Sign up Sign in Member-only story Romeshg Follow -- Share Unlock the Secrets to a Healthier Body Welcome to our guide on achieving a healthier body and mind. A healthier body is key to overall\\xa0wellness. We'll explore\\xa0nutrition,\\xa0exercise, and\\xa0sleep\\xa0to help you unlock the secrets. Our goal is to offer a holistic approach to\\xa0wellness. We focus on a healthy body and\\xa0wellness. We'll dive into the key components of a healthy lifestyle, including the importance of wellness and its impact on our health. Understanding wellness and its impact on our health is the first step. A healthier body is not just about physical health. It's also about mental wellness and overall wellness. Introduction to Wellness Wellness is a crucial part of our lives. It plays a significant role in maintaining a healthy body. By focusing on wellness, we can improve our overall health and achieve a healthier body and mind. Key Takeaways Wellness is essential for a healthier body and mind A healthy body is the key to overall wellness Nutrition,\\xa0exercise, and\\xa0sleep\\xa0are crucial components of wellness A holistic approach to wellness is necessary for achieving a healthier body Understanding the importance of wellness is the first step towards a healthier body and mind -- -- Hi I am Romesh. I'm best article writer Help Status About Careers Press Blog Privacy Terms Text to speech Teams\"}\n",
      "{'Title': 'Mental health is very important for a healthy life, which means it is as important as physical health. - Smiley ❤️ - Medium', 'Text': 'Sign up Sign in Sign up Sign in Member-only story Smiley ❤️ Follow -- Share World Mental Health Day was founded in 1992 by the World Federation for Mental Health (WFMH), led by Deputy Secretary General Richard Hunter. World Mental Health Day has a mission to make health a global priority. -- -- ❤️ Help Status About Careers Press Blog Privacy Terms Text to speech Teams'}\n",
      "{'Title': 'Understanding and Overcoming Depression | by Anshika Patel | Jan, 2025 | Medium', 'Text': 'Sign up Sign in Sign up Sign in Member-only story Anshika Patel Follow -- Share Understanding Depression through Geography: In geography, a depression is a low area in the land formed by erosion. Similarly, in the mind, depression develops when negative thoughts slowly erode our mental strength, leaving us feeling low and unable to think clearly. Filling of this Depression: Just as sedimentation fills depressions in the land, we can fill mental depressions by introducing positive thoughts and actions. This process takes time and consistent effort. Preventing Future Erosion: In geography, filled depressions are still vulnerable to erosion unless they harden into solid rock through lithification. Similarly, to prevent a relapse into mental depression, we must strengthen our minds through practices like exercise, deep breathing (pranayama), meditation, and reading inspiring texts like the Bhagavad Gita. A Slow and Gradual Process: Both the formation and recovery from depression are slow processes. Patience and consistent efforts are essential for restoring and maintaining mental well-being Conclusion: Depression, like a geographical depression, takes time to form and equally requires time and effort to heal. By replacing negative thoughts with positive ones and practicing activities that strengthen the mind and body, we can gradually overcome it. However, true healing comes from building resilience through consistent habits like exercise, meditation, and self-reflection. Remember, the process is slow, but with patience and determination, recovery and lasting mental well-being are achievable. -- -- Learner 🧘🏻\\u200d♀️🕉️ Help Status About Careers Press Blog Privacy Terms Text to speech Teams'}\n",
      "{'Title': '(1) The short answer to the first question has already been covered in (1.4) above, but the details of this will come further in the statement of Tawheed. | by Anna Queen | Jan, 2025 | Medium', 'Text': \"Sign up Sign in Sign up Sign in Member-only story Anna Queen Follow -- Share The answer to the second question will also come under the title of Prophethood. The third question will be discussed again under the title of Prophethood, but here too it is necessary to explain it. It should be remembered that this has been made clear in more than one place in the Holy Quran that all the prophets and messengers who came with the religion was Islam. Its basic beliefs (such as Tawheed, Prophethood, Hereafter) and acts of worship (such as prayer, fasting and zakat) have always remained the same in principle, only the difference in status is another matter. All the Prophets and their followers were Muslims of their time, regardless of what word was used for Islam in their own language, for we have seen that Islam means any person, age, region or race. Etc. has no meaning at all. Our prophet Hazrat Muhammad Rasoolullah sallallahu alayhi wasallam, who is the last prophet, presented the same religion (Islam) that the earlier prophets had been presenting. The difference is only in three things. is The first nations could not preserve most of the teachings of their messengers, while Allah Ta'ala specially protected the original teachings of the Holy Prophet. B. Secondly, never before have the matters of religion been so comprehensively and completely explained as they were explained through the… -- -- Help Status About Careers Press Blog Privacy Terms Text to speech Teams\"}\n",
      "{'Title': 'The Appeal of the Chicken Leg hinged and GString א. | by Atlas Khan | Jan, 2025 | Medium', 'Text': 'Sign up Sign in Sign up Sign in Member-only story Atlas Khan Follow -- Share Chicken leg piece piece is not just preferred dish, but an edible symbols the world over. One of the most favored parts of the chicken by consumers because of the unique juicy feel, and the delicious taste, the gizzard has found its way into most kitchens ad most restaurants. Whether served grilled, fried, roasted or cooked in all those spicy curries the chicken leg piece is just perhaps the most tasty and multi- functional piece of meat. What makes it so special? The dark meat in the leg piece is automatically softer and richer than other sections of the chicken. As for the tenderness, it holds water better, and so the resultant biscuits are always moist. This makes it suitable for grilling/frying strategies as despite an agreeably crunchy outside, the inside remains moist. Cultural issues show that the hen leg piece portion is versatile. As for the leg piece, flavors just become part of it easily, whether it comes from Indian tandoori or from American fried chicken, from Korean spicy drumsticks, to Mediterranean herb-roasted legs. This may be the reason why it is loved by home cooks and professional chefs because it is relatively cheap compared with some of the high end cuts of meat and is very easy to prepare. Last but not least, the chicken leg piece isn’t just an item and not simply, erm, food – it’s a decree that assert how cooking transforms common ingredients into. -- -- Atlas Writer Here ✍️ Help Status About Careers Press Blog Privacy Terms Text to speech Teams'}\n",
      "{'Title': 'Instant Ways to Boost Your Energy and Feel Wonderful Every Day Secrets | by Vital Harmony | Jan, 2025 | Medium', 'Text': \"Sign up Sign in Sign up Sign in Member-only story Vital Harmony Follow -- Share Feeling utterly drained in today's fast-paced world is common. It's linked to many factors, including work pressure, lack of sleep, and distractions. A low energy level can severely affect your productivity and even your general well-being. Imagine unlocking simple science-backed hacks to make your body and mind recharge almost instantly. This article delves into the proven strategies needed for those higher energy levels and help you feel amazing every day. 1. Hydration for Instant Energy The easiest way to cope with fatigue is by staying hydrated. Even mild dehydration can cause the body to feel sluggish and veer off track. Start by drinking a glass of warm water with lemon or a small pinch of sea salt. The vitamin C in the lemon will help boost your immune system, and the electrolytes in the salt can improve the effectiveness of how your cells retain water. Make it a habit to drink water throughout the day. If plain water seems boring, try adding fresh fruits, cucumber, or mint to make it more refreshing. Steer clear of sugary drinks and energy beverages because they tend to cause spikes followed by an energy crash. 2. Get Your Body Moving to Wake It Up -- -- Passionate about health and wellness, I share insights on achieving balance, vitality, and a mindful lifestyle. Join me on a journey to a healthier, happier you Help Status About Careers Press Blog Privacy Terms Text to speech Teams\"}\n",
      "{'Title': 'Why Health Is the Ultimate Wealth | by Miracle Oliver | Jan, 2025 | Medium', 'Text': 'Sign up Sign in Sign up Sign in Member-only story Miracle Oliver Follow -- Share Health Fuels ProductivityGood health is non-negotiable; it is the driving force behind achieving personal and professional aspirations. To excel at work, dive into hobbies, or cherish moments with loved ones, one must prioritize health. It is the foundation of a productive life. The Financial ConsequencesNeglecting health comes at a steep price. Medical expenses can skyrocket, earning potential can plummet, and time lost from work is irreplaceable. The financial burden of preventable diseases far outweighs the costs of maintaining good health through preventive care, exercise, and a balanced diet. Mental and Emotional StrengthPhysical health is intricately linked to mental well-being. Engage in regular exercise, prioritize sleep, and nourish your body with wholesome food to combat stress, anxiety, and depression. These practices cultivate a resilient and optimistic mindset. Longevity and Quality of LifeEveryone wants to live longer, but living a long and healthy life is essential. A strong body and a sharp mind enable us to fully experience and appreciate the moments and relationships that matter most. **Invest in Your Health Today** Balanced NutritionThe food you consume directly impacts both your body and mind. Embrace a diet rich in fruits, vegetables, lean proteins, whole grains, and healthy fats. This crucial investment in nutrition… -- -- An explorer of ideas Help Status About Careers Press Blog Privacy Terms Text to speech Teams'}\n",
      "{'Title': 'Green Tea vs. Other Drinks for Weight Loss | by Quora Most followed Questions | Jan, 2025 | Medium', 'Text': 'Sign up Sign in Sign up Sign in Quora Most followed Questions Follow -- Listen Share When it comes to weight loss, the beverage you choose can make all the difference. Green tea, a time-honored drink, is often compared to other popular choices like coffee, smoothies, and energy drinks. But how does it stack up? Let’s dive in and find out. Green tea is packed with catechins, powerful antioxidants that boost metabolism and promote fat burning. This gives it an edge over sugary drinks. A cup of green tea contains almost no calories. It’s a guilt-free drink that can help maintain a calorie deficit, essential for weight loss. Like green tea, coffee is known for increasing metabolism due to its caffeine content. However, excessive coffee can cause jitters and disrupt sleep. Many coffee lovers add cream, sugar, or flavored syrups, turning a healthy drink into a calorie bomb. Smoothies can be packed with vitamins and minerals, making them a great meal replacement. However, calorie control is crucial. Store-bought smoothies often contain added sugars and artificial ingredients, which can hinder weight loss. Energy drinks are often loaded with sugar, leading to a quick energy boost followed by a crash. This makes them less effective for sustained weight loss. These drinks frequently contain synthetic ingredients that may not be ideal for long-term health. Green tea provides a moderate caffeine boost without the crash associated with coffee or energy drinks. It keeps you focused and energized throughout the day. The combination of caffeine and catechins in green tea enhances thermogenesis, helping the body burn more calories. Avoid adding sugar or cream to keep it low-calorie and effective for weight loss. This amount is sufficient to reap its weight loss benefits without overloading on caffeine. Green tea works best when combined with a balanced diet and regular exercise. While coffee, smoothies, and energy drinks have their perks, green tea emerges as the best choice for weight loss. Its combination of low calories, natural fat-burning properties, and antioxidants makes it a standout option. Incorporate it into your daily routine and watch your weight loss journey thrive. How Green Tea Helps in Weight Loss -- -- Quora Most followed Questions Quora Space:https://healthfoodnews.quora.com/ Help Status About Careers Press Blog Privacy Terms Text to speech Teams'}\n",
      "{'Title': '1- The religion of Islam. Known - The name of the religion of us… | by Ollie Via | Jan, 2025 | Medium', 'Text': 'Sign up Sign in Sign up Sign in Member-only story Ollie Via Follow -- Share Known - The name of the religion of us Muslims is Islam. Before discussing the teachings of the religion of Islam, it is appropriate that you should be aware of these two words and the basic literal and terminological meaning and meaning of Islam. This little thing = to a great extent will determine the right course of your thinking and concern. 1.1 Meaning of religion ① ② ③ To command, own and dispose. Taking orders, obeying and accepting decisions. To make a religion or creed, to adopt a method (theoretical or practical), to make a constitution and by-laws. The first three meanings are not, as it seems, contradictory. Rather, it only follows that religion has the meaning of the relationship of two (2) such parties or parties, one of which is the other. It obeys. The religion of Lilla-ud-Din is for Allah alone.” can have both meanings. ① One whose command must be obeyed. -- -- Help Status About Careers Press Blog Privacy Terms Text to speech Teams'}\n",
      "{'Title': 'The Effect of Alcohol on Human Health | by SmartMan | Jan, 2025 | Medium', 'Text': 'Sign up Sign in Sign up Sign in Member-only story SmartMan Follow -- Share Alcohol is one of the most widely consumed psychoactive substances globally. While it has been part of human culture for centuries, its effects on health can vary greatly depending on the amount, frequency, and context of consumption. Understanding both the positive and negative impacts of alcohol is essential for informed decision-making. Positive Effects of Alcohol (When Consumed in Moderation):Moderate drinking is generally defined as up to one drink per day for women and up to two drinks per day for men. Here’s how alcohol, in limited amounts, may benefit health: 1.Improved Cardiovascular Health:- Moderate consumption, particularly of red wine, may increase levels of \"good\" HDL cholesterol.- Certain compounds in alcohol, such as antioxidants like resveratrol, may improve heart health by reducing inflammation and preventing blood clots. 2.Stress Relief:- Alcohol can have a sedative effect, helping to reduce temporary feelings of stress and anxiety. 3.Enhanced Social Connection:- Drinking in social settings can promote bonding, reduce social inhibitions, and foster a sense of community. Social connection is linked to better mental health outcomes. -- -- Compere| Data Analyst| BI Analyst|Solutionist| Love been Loved| Open for Business| Help Status About Careers Press Blog Privacy Terms Text to speech Teams'}\n"
     ]
    }
   ],
   "source": [
    "driver = webdriver.Chrome() \n",
    "driver.get(\"https://medium.com/tag/health/archive\")\n",
    "\n",
    "\n",
    "scroll_pause_time = 2  \n",
    "article_links = set()\n",
    "\n",
    "final_links = []\n",
    "\n",
    "while len(final_links) < 3:\n",
    "    # url = \"https://medium.com/tag/health/archive\"\n",
    "\n",
    "    # html_text = requests.get(url).text\n",
    "\n",
    "    soup = BeautifulSoup(driver.page_source, 'html.parser')\n",
    "\n",
    "    # main_div = soup.find_all(\"div\", {\"role\": \"link\"})\n",
    "\n",
    "    div = soup.find_all(\"div\", {\"data-href\": True})\n",
    "\n",
    "    # print(len(div))\n",
    "\n",
    "    for article in div:\n",
    "        # print(article['data-href'])\n",
    "        article_links.add(article['data-href'])\n",
    "        final_links.append(article['data-href'])\n",
    "        \n",
    "    driver.find_element(By.TAG_NAME, \"body\").send_keys(Keys.END)\n",
    "    time.sleep(scroll_pause_time)\n",
    "    \n",
    "    if len(final_links) > 3:\n",
    "        break\n",
    "    \n",
    "\n",
    "driver.quit()\n",
    "\n",
    "all_articles = []\n",
    "\n",
    "for link in final_links:\n",
    "    html_text = requests.get(link).text\n",
    "    soup = BeautifulSoup(html_text, 'html.parser')\n",
    "    current_article = {}\n",
    "    \n",
    "    all_paragraphs = soup.find_all('p')\n",
    "    for i in range(len(all_paragraphs)):\n",
    "        all_paragraphs[i] = all_paragraphs[i].get_text(strip=True)\n",
    "    final_para = ' '.join(all_paragraphs)\n",
    "    article_title = soup.find('title').get_text(strip=True) if soup.find('title') else \"No Title\"\n",
    "    para_text = soup.get_text(separator=' ', strip=True)\n",
    "    # current_article = ' '.join([par.text for par in all_paragraphs])\n",
    "    \n",
    "    current_article['Title'] = article_title\n",
    "    current_article['Text'] = final_para\n",
    "    \n",
    "    # current_article = \"Title : \" + article_title + '\\n' + current_article\n",
    "    all_articles.append(current_article)\n",
    "    print(current_article)\n",
    "    # with open ('articles.txt', 'a') as f:\n",
    "    #     f.write(current_article)\n",
    "    #     f.write('\\n')\n",
    "    # print(current_article)\n",
    "    \n",
    "    \n",
    "    # all_uls = soup.find_all('ul')\n",
    "    \n",
    "    \n",
    "    \n",
    "    "
   ]
  },
  {
   "cell_type": "markdown",
   "metadata": {},
   "source": [
    "Task 2: Data Cleaning and Preprocessing"
   ]
  },
  {
   "cell_type": "code",
   "execution_count": 36,
   "metadata": {},
   "outputs": [],
   "source": [
    "import nltk\n",
    "from nltk.corpus import stopwords\n",
    "from nltk.tokenize import word_tokenize, sent_tokenize\n",
    "from nltk.stem import PorterStemmer, WordNetLemmatizer"
   ]
  },
  {
   "cell_type": "code",
   "execution_count": 37,
   "metadata": {},
   "outputs": [
    {
     "name": "stderr",
     "output_type": "stream",
     "text": [
      "[nltk_data] Downloading package punkt_tab to\n",
      "[nltk_data]     C:\\Users\\SAKSHAM\\AppData\\Roaming\\nltk_data...\n",
      "[nltk_data]   Package punkt_tab is already up-to-date!\n",
      "[nltk_data] Downloading package stopwords to\n",
      "[nltk_data]     C:\\Users\\SAKSHAM\\AppData\\Roaming\\nltk_data...\n",
      "[nltk_data]   Package stopwords is already up-to-date!\n",
      "[nltk_data] Downloading package wordnet to\n",
      "[nltk_data]     C:\\Users\\SAKSHAM\\AppData\\Roaming\\nltk_data...\n",
      "[nltk_data]   Package wordnet is already up-to-date!\n"
     ]
    },
    {
     "data": {
      "text/plain": [
       "True"
      ]
     },
     "execution_count": 37,
     "metadata": {},
     "output_type": "execute_result"
    }
   ],
   "source": [
    "nltk.download('punkt_tab')\n",
    "nltk.download('stopwords')\n",
    "nltk.download('wordnet')"
   ]
  },
  {
   "cell_type": "code",
   "execution_count": 9,
   "metadata": {},
   "outputs": [],
   "source": [
    "stopwords = set(stopwords.words('english'))\n",
    "porter = PorterStemmer()\n",
    "lemmatizer = WordNetLemmatizer()"
   ]
  },
  {
   "cell_type": "code",
   "execution_count": 10,
   "metadata": {},
   "outputs": [],
   "source": [
    "import re"
   ]
  },
  {
   "cell_type": "code",
   "execution_count": 30,
   "metadata": {},
   "outputs": [
    {
     "name": "stdout",
     "output_type": "stream",
     "text": [
      "Unlock the Secrets to a Healthier Body Welcome to our guide on achieving a healthier body and mind. A healthier body is key to overall wellness. We'll explore nutrition, exercise, and sleep to help you unlock the secrets. Our goal is to offer a holistic approach to wellness. We focus on a healthy body and wellness. We'll dive into the key components of a healthy lifestyle, including the importance of wellness and its impact on our health. Understanding wellness and its impact on our health is the first step. A healthier body is not just about physical health. It's also about mental wellness and overall wellness. Introduction to Wellness Wellness is a crucial part of our lives. It plays a significant role in maintaining a healthy body. By focusing on wellness, we can improve our overall health and achieve a healthier body and mind. Key Takeaways Wellness is essential for a healthier body and mind A healthy body is the key to overall wellness Nutrition, exercise, and sleep are crucial components of wellness A holistic approach to wellness is necessary for achieving a healthier body Understanding the importance of wellness is the first step towards a healthier body and mind -- -- Hi I am Romesh. I'm best article writer Help Status About Careers Press Blog Privacy Terms Text to speech Teams\n",
      "World Mental Health Day was founded in 1992 by the World Federation for Mental Health (WFMH), led by Deputy Secretary General Richard Hunter. World Mental Health Day has a mission to make health a global priority. -- -- ❤️ Help Status About Careers Press Blog Privacy Terms Text to speech Teams\n",
      "Understanding Depression through Geography: In geography, a depression is a low area in the land formed by erosion. Similarly, in the mind, depression develops when negative thoughts slowly erode our mental strength, leaving us feeling low and unable to think clearly. Filling of this Depression: Just as sedimentation fills depressions in the land, we can fill mental depressions by introducing positive thoughts and actions. This process takes time and consistent effort. Preventing Future Erosion: In geography, filled depressions are still vulnerable to erosion unless they harden into solid rock through lithification. Similarly, to prevent a relapse into mental depression, we must strengthen our minds through practices like exercise, deep breathing (pranayama), meditation, and reading inspiring texts like the Bhagavad Gita. A Slow and Gradual Process: Both the formation and recovery from depression are slow processes. Patience and consistent efforts are essential for restoring and maintaining mental well-being Conclusion: Depression, like a geographical depression, takes time to form and equally requires time and effort to heal. By replacing negative thoughts with positive ones and practicing activities that strengthen the mind and body, we can gradually overcome it. However, true healing comes from building resilience through consistent habits like exercise, meditation, and self-reflection. Remember, the process is slow, but with patience and determination, recovery and lasting mental well-being are achievable. -- -- Learner 🧘🏻‍♀️🕉️ Help Status About Careers Press Blog Privacy Terms Text to speech Teams\n",
      "The answer to the second question will also come under the title of Prophethood. The third question will be discussed again under the title of Prophethood, but here too it is necessary to explain it. It should be remembered that this has been made clear in more than one place in the Holy Quran that all the prophets and messengers who came with the religion was Islam. Its basic beliefs (such as Tawheed, Prophethood, Hereafter) and acts of worship (such as prayer, fasting and zakat) have always remained the same in principle, only the difference in status is another matter. All the Prophets and their followers were Muslims of their time, regardless of what word was used for Islam in their own language, for we have seen that Islam means any person, age, region or race. Etc. has no meaning at all. Our prophet Hazrat Muhammad Rasoolullah sallallahu alayhi wasallam, who is the last prophet, presented the same religion (Islam) that the earlier prophets had been presenting. The difference is only in three things. is The first nations could not preserve most of the teachings of their messengers, while Allah Ta'ala specially protected the original teachings of the Holy Prophet. B. Secondly, never before have the matters of religion been so comprehensively and completely explained as they were explained through the… -- -- Help Status About Careers Press Blog Privacy Terms Text to speech Teams\n",
      "Chicken leg piece piece is not just preferred dish, but an edible symbols the world over. One of the most favored parts of the chicken by consumers because of the unique juicy feel, and the delicious taste, the gizzard has found its way into most kitchens ad most restaurants. Whether served grilled, fried, roasted or cooked in all those spicy curries the chicken leg piece is just perhaps the most tasty and multi- functional piece of meat. What makes it so special? The dark meat in the leg piece is automatically softer and richer than other sections of the chicken. As for the tenderness, it holds water better, and so the resultant biscuits are always moist. This makes it suitable for grilling/frying strategies as despite an agreeably crunchy outside, the inside remains moist. Cultural issues show that the hen leg piece portion is versatile. As for the leg piece, flavors just become part of it easily, whether it comes from Indian tandoori or from American fried chicken, from Korean spicy drumsticks, to Mediterranean herb-roasted legs. This may be the reason why it is loved by home cooks and professional chefs because it is relatively cheap compared with some of the high end cuts of meat and is very easy to prepare. Last but not least, the chicken leg piece isn’t just an item and not simply, erm, food – it’s a decree that assert how cooking transforms common ingredients into. -- -- Atlas Writer Here ✍️ Help Status About Careers Press Blog Privacy Terms Text to speech Teams\n",
      "Feeling utterly drained in today's fast-paced world is common. It's linked to many factors, including work pressure, lack of sleep, and distractions. A low energy level can severely affect your productivity and even your general well-being. Imagine unlocking simple science-backed hacks to make your body and mind recharge almost instantly. This article delves into the proven strategies needed for those higher energy levels and help you feel amazing every day. 1. Hydration for Instant Energy The easiest way to cope with fatigue is by staying hydrated. Even mild dehydration can cause the body to feel sluggish and veer off track. Start by drinking a glass of warm water with lemon or a small pinch of sea salt. The vitamin C in the lemon will help boost your immune system, and the electrolytes in the salt can improve the effectiveness of how your cells retain water. Make it a habit to drink water throughout the day. If plain water seems boring, try adding fresh fruits, cucumber, or mint to make it more refreshing. Steer clear of sugary drinks and energy beverages because they tend to cause spikes followed by an energy crash. 2. Get Your Body Moving to Wake It Up -- -- Passionate about health and wellness, I share insights on achieving balance, vitality, and a mindful lifestyle. Join me on a journey to a healthier, happier you Help Status About Careers Press Blog Privacy Terms Text to speech Teams\n",
      "Health Fuels ProductivityGood health is non-negotiable; it is the driving force behind achieving personal and professional aspirations. To excel at work, dive into hobbies, or cherish moments with loved ones, one must prioritize health. It is the foundation of a productive life. The Financial ConsequencesNeglecting health comes at a steep price. Medical expenses can skyrocket, earning potential can plummet, and time lost from work is irreplaceable. The financial burden of preventable diseases far outweighs the costs of maintaining good health through preventive care, exercise, and a balanced diet. Mental and Emotional StrengthPhysical health is intricately linked to mental well-being. Engage in regular exercise, prioritize sleep, and nourish your body with wholesome food to combat stress, anxiety, and depression. These practices cultivate a resilient and optimistic mindset. Longevity and Quality of LifeEveryone wants to live longer, but living a long and healthy life is essential. A strong body and a sharp mind enable us to fully experience and appreciate the moments and relationships that matter most. **Invest in Your Health Today** Balanced NutritionThe food you consume directly impacts both your body and mind. Embrace a diet rich in fruits, vegetables, lean proteins, whole grains, and healthy fats. This crucial investment in nutrition… -- -- An explorer of ideas Help Status About Careers Press Blog Privacy Terms Text to speech Teams\n",
      "When it comes to weight loss, the beverage you choose can make all the difference. Green tea, a time-honored drink, is often compared to other popular choices like coffee, smoothies, and energy drinks. But how does it stack up? Let’s dive in and find out. Green tea is packed with catechins, powerful antioxidants that boost metabolism and promote fat burning. This gives it an edge over sugary drinks. A cup of green tea contains almost no calories. It’s a guilt-free drink that can help maintain a calorie deficit, essential for weight loss. Like green tea, coffee is known for increasing metabolism due to its caffeine content. However, excessive coffee can cause jitters and disrupt sleep. Many coffee lovers add cream, sugar, or flavored syrups, turning a healthy drink into a calorie bomb. Smoothies can be packed with vitamins and minerals, making them a great meal replacement. However, calorie control is crucial. Store-bought smoothies often contain added sugars and artificial ingredients, which can hinder weight loss. Energy drinks are often loaded with sugar, leading to a quick energy boost followed by a crash. This makes them less effective for sustained weight loss. These drinks frequently contain synthetic ingredients that may not be ideal for long-term health. Green tea provides a moderate caffeine boost without the crash associated with coffee or energy drinks. It keeps you focused and energized throughout the day. The combination of caffeine and catechins in green tea enhances thermogenesis, helping the body burn more calories. Avoid adding sugar or cream to keep it low-calorie and effective for weight loss. This amount is sufficient to reap its weight loss benefits without overloading on caffeine. Green tea works best when combined with a balanced diet and regular exercise. While coffee, smoothies, and energy drinks have their perks, green tea emerges as the best choice for weight loss. Its combination of low calories, natural fat-burning properties, and antioxidants makes it a standout option. Incorporate it into your daily routine and watch your weight loss journey thrive. How Green Tea Helps in Weight Loss -- -- Quora Most followed Questions Quora Space:https://healthfoodnews.quora.com/ Help Status About Careers Press Blog Privacy Terms Text to speech Teams\n",
      "Known - The name of the religion of us Muslims is Islam. Before discussing the teachings of the religion of Islam, it is appropriate that you should be aware of these two words and the basic literal and terminological meaning and meaning of Islam. This little thing = to a great extent will determine the right course of your thinking and concern. 1.1 Meaning of religion ① ② ③ To command, own and dispose. Taking orders, obeying and accepting decisions. To make a religion or creed, to adopt a method (theoretical or practical), to make a constitution and by-laws. The first three meanings are not, as it seems, contradictory. Rather, it only follows that religion has the meaning of the relationship of two (2) such parties or parties, one of which is the other. It obeys. The religion of Lilla-ud-Din is for Allah alone.” can have both meanings. ① One whose command must be obeyed. -- -- Help Status About Careers Press Blog Privacy Terms Text to speech Teams\n",
      "Alcohol is one of the most widely consumed psychoactive substances globally. While it has been part of human culture for centuries, its effects on health can vary greatly depending on the amount, frequency, and context of consumption. Understanding both the positive and negative impacts of alcohol is essential for informed decision-making. Positive Effects of Alcohol (When Consumed in Moderation):Moderate drinking is generally defined as up to one drink per day for women and up to two drinks per day for men. Here’s how alcohol, in limited amounts, may benefit health: 1.Improved Cardiovascular Health:- Moderate consumption, particularly of red wine, may increase levels of \"good\" HDL cholesterol.- Certain compounds in alcohol, such as antioxidants like resveratrol, may improve heart health by reducing inflammation and preventing blood clots. 2.Stress Relief:- Alcohol can have a sedative effect, helping to reduce temporary feelings of stress and anxiety. 3.Enhanced Social Connection:- Drinking in social settings can promote bonding, reduce social inhibitions, and foster a sense of community. Social connection is linked to better mental health outcomes. -- -- Compere| Data Analyst| BI Analyst|Solutionist| Love been Loved| Open for Business| Help Status About Careers Press Blog Privacy Terms Text to speech Teams\n"
     ]
    }
   ],
   "source": [
    "for article in all_articles:\n",
    "    text = article['Text']\n",
    "    text_list = text.split()\n",
    "    \n",
    "    for i in range(len(text_list) - 1):\n",
    "        if text_list[i] == 'Share':\n",
    "            # print(i)\n",
    "            text_list = text_list[i+1:]\n",
    "            break\n",
    "    \n",
    "    # print(len(text_list))\n",
    "    text = ' '.join(text_list)\n",
    "    article['Text'] = text\n",
    "    print(text) "
   ]
  },
  {
   "cell_type": "code",
   "execution_count": 31,
   "metadata": {},
   "outputs": [],
   "source": [
    "text = re.sub(r'[^a-zA-Z\\s]', '', all_articles[0]['Text']) # Removed the special characters"
   ]
  },
  {
   "cell_type": "code",
   "execution_count": 32,
   "metadata": {},
   "outputs": [],
   "source": [
    "text = re.sub(r'https?:\\/\\/.*[\\r\\n]*', '', text) # Removed the URLs\n",
    "\n",
    "text = re.sub(r'\\d+', '', text) # Removed the digits\n",
    "\n",
    "text = text.lower()\n",
    "\n"
   ]
  },
  {
   "cell_type": "code",
   "execution_count": 34,
   "metadata": {},
   "outputs": [
    {
     "name": "stdout",
     "output_type": "stream",
     "text": [
      "unlock the secrets to a healthier body welcome to our guide on achieving a healthier body and mind a healthier body is key to overall wellness well explore nutrition exercise and sleep to help you unlock the secrets our goal is to offer a holistic approach to wellness we focus on a healthy body and wellness well dive into the key components of a healthy lifestyle including the importance of wellness and its impact on our health understanding wellness and its impact on our health is the first step a healthier body is not just about physical health its also about mental wellness and overall wellness introduction to wellness wellness is a crucial part of our lives it plays a significant role in maintaining a healthy body by focusing on wellness we can improve our overall health and achieve a healthier body and mind key takeaways wellness is essential for a healthier body and mind a healthy body is the key to overall wellness nutrition exercise and sleep are crucial components of wellness a holistic approach to wellness is necessary for achieving a healthier body understanding the importance of wellness is the first step towards a healthier body and mind   hi i am romesh im best article writer help status about careers press blog privacy terms text to speech teams\n",
      "unlock the secrets to a healthier body welcome to our guide on achieving a healthier body and mind a healthier body is key to overall wellness well explore nutrition exercise and sleep to help you unlock the secrets our goal is to offer a holistic approach to wellness we focus on a healthy body and wellness well dive into the key components of a healthy lifestyle including the importance of wellness and its impact on our health understanding wellness and its impact on our health is the first step a healthier body is not just about physical health its also about mental wellness and overall wellness introduction to wellness wellness is a crucial part of our lives it plays a significant role in maintaining a healthy body by focusing on wellness we can improve our overall health and achieve a healthier body and mind key takeaways wellness is essential for a healthier body and mind a healthy body is the key to overall wellness nutrition exercise and sleep are crucial components of wellness a holistic approach to wellness is necessary for achieving a healthier body understanding the importance of wellness is the first step towards a healthier body and mind hi i am romesh im best article writer help status about careers press blog privacy terms text to speech teams\n"
     ]
    }
   ],
   "source": [
    "print(text)\n",
    "\n",
    "# text = text.replace('sign up', '')\n",
    "# text = text.replace('sign in', '')\n",
    "# text = text.replace('medium open in app sign up sign in write sign up sign in', '')\n",
    "text = re.sub(r'\\s+', ' ', text).strip()\n",
    "print(text)\n",
    "with open('article.txt', 'w') as f:\n",
    "    f.write(text)"
   ]
  },
  {
   "cell_type": "code",
   "execution_count": 38,
   "metadata": {},
   "outputs": [],
   "source": [
    "stopwords = set(stopwords.words('english'))\n",
    "ps = PorterStemmer()\n",
    "lemmatizer = WordNetLemmatizer()"
   ]
  },
  {
   "cell_type": "code",
   "execution_count": 39,
   "metadata": {},
   "outputs": [],
   "source": [
    "sentences = sent_tokenize(text)\n",
    "\n",
    "words = word_tokenize(text)\n"
   ]
  },
  {
   "cell_type": "code",
   "execution_count": 41,
   "metadata": {},
   "outputs": [
    {
     "name": "stdout",
     "output_type": "stream",
     "text": [
      "['unlock', 'the', 'secrets', 'to', 'a', 'healthier', 'body', 'welcome', 'to', 'our', 'guide', 'on', 'achieving', 'a', 'healthier', 'body', 'and', 'mind', 'a', 'healthier', 'body', 'is', 'key', 'to', 'overall', 'wellness', 'well', 'explore', 'nutrition', 'exercise', 'and', 'sleep', 'to', 'help', 'you', 'unlock', 'the', 'secrets', 'our', 'goal', 'is', 'to', 'offer', 'a', 'holistic', 'approach', 'to', 'wellness', 'we', 'focus', 'on', 'a', 'healthy', 'body', 'and', 'wellness', 'well', 'dive', 'into', 'the', 'key', 'components', 'of', 'a', 'healthy', 'lifestyle', 'including', 'the', 'importance', 'of', 'wellness', 'and', 'its', 'impact', 'on', 'our', 'health', 'understanding', 'wellness', 'and', 'its', 'impact', 'on', 'our', 'health', 'is', 'the', 'first', 'step', 'a', 'healthier', 'body', 'is', 'not', 'just', 'about', 'physical', 'health', 'its', 'also', 'about', 'mental', 'wellness', 'and', 'overall', 'wellness', 'introduction', 'to', 'wellness', 'wellness', 'is', 'a', 'crucial', 'part', 'of', 'our', 'lives', 'it', 'plays', 'a', 'significant', 'role', 'in', 'maintaining', 'a', 'healthy', 'body', 'by', 'focusing', 'on', 'wellness', 'we', 'can', 'improve', 'our', 'overall', 'health', 'and', 'achieve', 'a', 'healthier', 'body', 'and', 'mind', 'key', 'takeaways', 'wellness', 'is', 'essential', 'for', 'a', 'healthier', 'body', 'and', 'mind', 'a', 'healthy', 'body', 'is', 'the', 'key', 'to', 'overall', 'wellness', 'nutrition', 'exercise', 'and', 'sleep', 'are', 'crucial', 'components', 'of', 'wellness', 'a', 'holistic', 'approach', 'to', 'wellness', 'is', 'necessary', 'for', 'achieving', 'a', 'healthier', 'body', 'understanding', 'the', 'importance', 'of', 'wellness', 'is', 'the', 'first', 'step', 'towards', 'a', 'healthier', 'body', 'and', 'mind', 'hi', 'i', 'am', 'romesh', 'im', 'best', 'article', 'writer', 'help', 'status', 'about', 'careers', 'press', 'blog', 'privacy', 'terms', 'text', 'to', 'speech', 'teams']\n"
     ]
    }
   ],
   "source": [
    "print(words)"
   ]
  },
  {
   "cell_type": "code",
   "execution_count": 42,
   "metadata": {},
   "outputs": [
    {
     "name": "stdout",
     "output_type": "stream",
     "text": [
      "['unlock', 'secrets', 'healthier', 'body', 'welcome', 'guide', 'achieving', 'healthier', 'body', 'mind', 'healthier', 'body', 'key', 'overall', 'wellness', 'well', 'explore', 'nutrition', 'exercise', 'sleep', 'help', 'unlock', 'secrets', 'goal', 'offer', 'holistic', 'approach', 'wellness', 'focus', 'healthy', 'body', 'wellness', 'well', 'dive', 'key', 'components', 'healthy', 'lifestyle', 'including', 'importance', 'wellness', 'impact', 'health', 'understanding', 'wellness', 'impact', 'health', 'first', 'step', 'healthier', 'body', 'physical', 'health', 'also', 'mental', 'wellness', 'overall', 'wellness', 'introduction', 'wellness', 'wellness', 'crucial', 'part', 'lives', 'plays', 'significant', 'role', 'maintaining', 'healthy', 'body', 'focusing', 'wellness', 'improve', 'overall', 'health', 'achieve', 'healthier', 'body', 'mind', 'key', 'takeaways', 'wellness', 'essential', 'healthier', 'body', 'mind', 'healthy', 'body', 'key', 'overall', 'wellness', 'nutrition', 'exercise', 'sleep', 'crucial', 'components', 'wellness', 'holistic', 'approach', 'wellness', 'necessary', 'achieving', 'healthier', 'body', 'understanding', 'importance', 'wellness', 'first', 'step', 'towards', 'healthier', 'body', 'mind', 'hi', 'romesh', 'im', 'best', 'article', 'writer', 'help', 'status', 'careers', 'press', 'blog', 'privacy', 'terms', 'text', 'speech', 'teams']\n"
     ]
    }
   ],
   "source": [
    "filtered_tokens = [word for word in words if word not in stopwords]\n",
    "print(filtered_tokens)"
   ]
  },
  {
   "cell_type": "markdown",
   "metadata": {},
   "source": [
    "Port Stemming"
   ]
  },
  {
   "cell_type": "code",
   "execution_count": 44,
   "metadata": {},
   "outputs": [
    {
     "name": "stdout",
     "output_type": "stream",
     "text": [
      "['unlock', 'secret', 'healthier', 'bodi', 'welcom', 'guid', 'achiev', 'healthier', 'bodi', 'mind', 'healthier', 'bodi', 'key', 'overal', 'well', 'well', 'explor', 'nutrit', 'exercis', 'sleep', 'help', 'unlock', 'secret', 'goal', 'offer', 'holist', 'approach', 'well', 'focu', 'healthi', 'bodi', 'well', 'well', 'dive', 'key', 'compon', 'healthi', 'lifestyl', 'includ', 'import', 'well', 'impact', 'health', 'understand', 'well', 'impact', 'health', 'first', 'step', 'healthier', 'bodi', 'physic', 'health', 'also', 'mental', 'well', 'overal', 'well', 'introduct', 'well', 'well', 'crucial', 'part', 'live', 'play', 'signific', 'role', 'maintain', 'healthi', 'bodi', 'focus', 'well', 'improv', 'overal', 'health', 'achiev', 'healthier', 'bodi', 'mind', 'key', 'takeaway', 'well', 'essenti', 'healthier', 'bodi', 'mind', 'healthi', 'bodi', 'key', 'overal', 'well', 'nutrit', 'exercis', 'sleep', 'crucial', 'compon', 'well', 'holist', 'approach', 'well', 'necessari', 'achiev', 'healthier', 'bodi', 'understand', 'import', 'well', 'first', 'step', 'toward', 'healthier', 'bodi', 'mind', 'hi', 'romesh', 'im', 'best', 'articl', 'writer', 'help', 'statu', 'career', 'press', 'blog', 'privaci', 'term', 'text', 'speech', 'team']\n"
     ]
    }
   ],
   "source": [
    "stemmed_tokens = [porter.stem(word) for word in filtered_tokens]\n",
    "print(stemmed_tokens)\n"
   ]
  },
  {
   "cell_type": "markdown",
   "metadata": {},
   "source": [
    "Snowball Stemming"
   ]
  },
  {
   "cell_type": "code",
   "execution_count": 45,
   "metadata": {},
   "outputs": [
    {
     "name": "stdout",
     "output_type": "stream",
     "text": [
      "['unlock', 'secret', 'healthier', 'bodi', 'welcom', 'guid', 'achiev', 'healthier', 'bodi', 'mind', 'healthier', 'bodi', 'key', 'overal', 'well', 'well', 'explor', 'nutrit', 'exercis', 'sleep', 'help', 'unlock', 'secret', 'goal', 'offer', 'holist', 'approach', 'well', 'focus', 'healthi', 'bodi', 'well', 'well', 'dive', 'key', 'compon', 'healthi', 'lifestyl', 'includ', 'import', 'well', 'impact', 'health', 'understand', 'well', 'impact', 'health', 'first', 'step', 'healthier', 'bodi', 'physic', 'health', 'also', 'mental', 'well', 'overal', 'well', 'introduct', 'well', 'well', 'crucial', 'part', 'live', 'play', 'signific', 'role', 'maintain', 'healthi', 'bodi', 'focus', 'well', 'improv', 'overal', 'health', 'achiev', 'healthier', 'bodi', 'mind', 'key', 'takeaway', 'well', 'essenti', 'healthier', 'bodi', 'mind', 'healthi', 'bodi', 'key', 'overal', 'well', 'nutrit', 'exercis', 'sleep', 'crucial', 'compon', 'well', 'holist', 'approach', 'well', 'necessari', 'achiev', 'healthier', 'bodi', 'understand', 'import', 'well', 'first', 'step', 'toward', 'healthier', 'bodi', 'mind', 'hi', 'romesh', 'im', 'best', 'articl', 'writer', 'help', 'status', 'career', 'press', 'blog', 'privaci', 'term', 'text', 'speech', 'team']\n"
     ]
    }
   ],
   "source": [
    "from nltk.stem.snowball import SnowballStemmer\n",
    "\n",
    "stemmed_tokens_snowball = [SnowballStemmer('english').stem(word) for word in filtered_tokens]\n",
    "print(stemmed_tokens_snowball)"
   ]
  },
  {
   "cell_type": "markdown",
   "metadata": {},
   "source": [
    "Lemmatization"
   ]
  },
  {
   "cell_type": "code",
   "execution_count": 46,
   "metadata": {},
   "outputs": [
    {
     "name": "stdout",
     "output_type": "stream",
     "text": [
      "['unlock', 'secret', 'healthier', 'body', 'welcome', 'guide', 'achieving', 'healthier', 'body', 'mind', 'healthier', 'body', 'key', 'overall', 'wellness', 'well', 'explore', 'nutrition', 'exercise', 'sleep', 'help', 'unlock', 'secret', 'goal', 'offer', 'holistic', 'approach', 'wellness', 'focus', 'healthy', 'body', 'wellness', 'well', 'dive', 'key', 'component', 'healthy', 'lifestyle', 'including', 'importance', 'wellness', 'impact', 'health', 'understanding', 'wellness', 'impact', 'health', 'first', 'step', 'healthier', 'body', 'physical', 'health', 'also', 'mental', 'wellness', 'overall', 'wellness', 'introduction', 'wellness', 'wellness', 'crucial', 'part', 'life', 'play', 'significant', 'role', 'maintaining', 'healthy', 'body', 'focusing', 'wellness', 'improve', 'overall', 'health', 'achieve', 'healthier', 'body', 'mind', 'key', 'takeaway', 'wellness', 'essential', 'healthier', 'body', 'mind', 'healthy', 'body', 'key', 'overall', 'wellness', 'nutrition', 'exercise', 'sleep', 'crucial', 'component', 'wellness', 'holistic', 'approach', 'wellness', 'necessary', 'achieving', 'healthier', 'body', 'understanding', 'importance', 'wellness', 'first', 'step', 'towards', 'healthier', 'body', 'mind', 'hi', 'romesh', 'im', 'best', 'article', 'writer', 'help', 'status', 'career', 'press', 'blog', 'privacy', 'term', 'text', 'speech', 'team']\n"
     ]
    }
   ],
   "source": [
    "lemmatized_tokens = [lemmatizer.lemmatize(word) for word in filtered_tokens]\n",
    "print(lemmatized_tokens)"
   ]
  },
  {
   "cell_type": "code",
   "execution_count": null,
   "metadata": {},
   "outputs": [],
   "source": []
  }
 ],
 "metadata": {
  "kernelspec": {
   "display_name": "venv",
   "language": "python",
   "name": "python3"
  },
  "language_info": {
   "codemirror_mode": {
    "name": "ipython",
    "version": 3
   },
   "file_extension": ".py",
   "mimetype": "text/x-python",
   "name": "python",
   "nbconvert_exporter": "python",
   "pygments_lexer": "ipython3",
   "version": "3.11.3"
  }
 },
 "nbformat": 4,
 "nbformat_minor": 2
}
